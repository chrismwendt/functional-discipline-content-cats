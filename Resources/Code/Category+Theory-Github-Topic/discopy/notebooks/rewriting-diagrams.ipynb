{
 "cells": [
  {
   "cell_type": "code",
   "execution_count": 15,
   "metadata": {},
   "outputs": [],
   "source": [
    "from discopy import Ty, Box, Id, Diagram\n",
    "\n",
    "folder = lambda file: '../docs/imgs/' + file\n",
    "params = dict(\n",
    "    aspect='auto',\n",
    "    loop=False,\n",
    "    draw_types=False)"
   ]
  },
  {
   "cell_type": "code",
   "execution_count": 16,
   "metadata": {
    "scrolled": false
   },
   "outputs": [
    {
     "data": {
      "text/html": [
       "<img src=\"../docs/imgs/simple-rewrite.gif\">"
      ],
      "text/plain": [
       "<IPython.core.display.HTML object>"
      ]
     },
     "execution_count": 16,
     "metadata": {},
     "output_type": "execute_result"
    }
   ],
   "source": [
    "x = Ty('x')\n",
    "copy, add = Box('copy', x, x @ x), Box('add', x @ x, x)\n",
    "CX = copy @ Id(x) >> Id(x) @ add\n",
    "XC = Id(x) @ copy >> add @ Id(x)\n",
    "diagram = CX @ XC >> XC @ CX\n",
    "rewrite_steps = diagram.normalize()\n",
    "\n",
    "diagram.to_gif(*rewrite_steps,\n",
    "               path=folder('simple-rewrite.gif'), **params)"
   ]
  },
  {
   "cell_type": "code",
   "execution_count": 17,
   "metadata": {},
   "outputs": [
    {
     "data": {
      "text/html": [
       "<img src=\"../docs/imgs/spiral.gif\">"
      ],
      "text/plain": [
       "<IPython.core.display.HTML object>"
      ]
     },
     "execution_count": 17,
     "metadata": {},
     "output_type": "execute_result"
    }
   ],
   "source": [
    "from discopy.monoidal import spiral\n",
    "\n",
    "diagram = spiral(3)\n",
    "diagram.to_gif(*diagram.normalize(),\n",
    "               path=folder('spiral.gif'),\n",
    "               **dict(params, draw_box_labels=False, loop=True, aspect='equal'))"
   ]
  },
  {
   "cell_type": "code",
   "execution_count": 18,
   "metadata": {
    "scrolled": true
   },
   "outputs": [
    {
     "data": {
      "text/html": [
       "<img src=\"../docs/imgs/snake-removal.gif\">"
      ],
      "text/plain": [
       "<IPython.core.display.HTML object>"
      ]
     },
     "execution_count": 18,
     "metadata": {},
     "output_type": "execute_result"
    }
   ],
   "source": [
    "snake = Box('f', x @ x, x @ x)\\\n",
    "    .transpose_l().transpose_l()\\\n",
    "    .transpose_r().transpose_r()\n",
    "\n",
    "snake.to_gif(*snake.normalize(), **params,\n",
    "             path=folder('snake-removal.gif'))"
   ]
  },
  {
   "cell_type": "code",
   "execution_count": 10,
   "metadata": {
    "scrolled": true
   },
   "outputs": [
    {
     "data": {
      "image/png": "[encoded data removed]",
      "text/plain": [
       "<Figure size 432x288 with 1 Axes>"
      ]
     },
     "metadata": {},
     "output_type": "display_data"
    }
   ],
   "source": [
    "from discopy.circuit import Circuit, Id, PRO\n",
    "snake = Id(2) @ Circuit.caps(PRO(2), PRO(2)) >> Circuit.cups(PRO(2), PRO(2)) @ Id(2)\n",
    "snake.draw(draw_types=False, aspect='auto')"
   ]
  },
  {
   "cell_type": "code",
   "execution_count": 14,
   "metadata": {},
   "outputs": [
    {
     "data": {
      "image/png": "[encoded data removed]",
      "text/plain": [
       "<Figure size 432x288 with 1 Axes>"
      ]
     },
     "metadata": {},
     "output_type": "display_data"
    }
   ],
   "source": [
    "snake.normal_form().draw(aspect='auto')"
   ]
  },
  {
   "cell_type": "code",
   "execution_count": 12,
   "metadata": {},
   "outputs": [
    {
     "name": "stdout",
     "output_type": "stream",
     "text": [
      "depth = 10\n"
     ]
    },
    {
     "data": {
      "text/html": [
       "<img src=\"../docs/imgs/foliate.gif\">"
      ],
      "text/plain": [
       "<IPython.core.display.HTML object>"
      ]
     },
     "execution_count": 12,
     "metadata": {},
     "output_type": "execute_result"
    }
   ],
   "source": [
    "rewrite_steps = tuple(snake.foliate())\n",
    "print('depth = {}'.format(snake.ddepth()))\n",
    "snake.to_gif(*rewrite_steps[:-1], path=folder('foliate.gif'), aspect='auto', draw_types=False)"
   ]
  }
 ],
 "metadata": {
  "kernelspec": {
   "display_name": "Python 3",
   "language": "python",
   "name": "python3"
  },
  "language_info": {
   "codemirror_mode": {
    "name": "ipython",
    "version": 3
   },
   "file_extension": ".py",
   "mimetype": "text/x-python",
   "name": "python",
   "nbconvert_exporter": "python",
   "pygments_lexer": "ipython3",
   "version": "3.7.4"
  }
 },
 "nbformat": 4,
 "nbformat_minor": 2
}
